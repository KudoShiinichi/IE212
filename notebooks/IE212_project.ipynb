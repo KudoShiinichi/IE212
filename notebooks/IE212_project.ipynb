{
 "cells": [
  {
   "cell_type": "code",
   "execution_count": 2,
   "metadata": {
    "id": "Co33lnkv5akf"
   },
   "outputs": [],
   "source": [
    "import numpy as np\n",
    "import pandas as pd\n",
    "from pyvi.ViTokenizer import ViTokenizer\n",
    "import regex as re\n",
    "import os\n",
    "import matplotlib.pyplot as plt\n",
    "import seaborn as sns\n",
    "from emot.emo_unicode import UNICODE_EMOJI, EMOTICONS_EMO\n",
    "from collections import Counter\n",
    "import random"
   ]
  },
  {
   "cell_type": "code",
   "execution_count": 4,
   "metadata": {
    "id": "vVLY_qLo52HZ"
   },
   "outputs": [],
   "source": [
    "TRAIN_DATA = '../data/vihsd_dataset/train.csv'\n",
    "TEST_DATA = '../data/vihsd_dataset/test.csv'"
   ]
  },
  {
   "cell_type": "code",
   "execution_count": 5,
   "metadata": {
    "id": "SgusZYgv6Cyv"
   },
   "outputs": [],
   "source": [
    "train_data = pd.read_csv(TRAIN_DATA)\n",
    "test_data = pd.read_csv(TEST_DATA)"
   ]
  },
  {
   "cell_type": "code",
   "execution_count": 6,
   "metadata": {
    "colab": {
     "base_uri": "https://localhost:8080/",
     "height": 206
    },
    "executionInfo": {
     "elapsed": 308,
     "status": "ok",
     "timestamp": 1737552065759,
     "user": {
      "displayName": "Tuấn Đoàn Minh",
      "userId": "03441786227984461718"
     },
     "user_tz": -420
    },
    "id": "C_CwXm4B6A01",
    "outputId": "9f9e82db-11ea-4b7f-c27b-c8f60b4e56bf"
   },
   "outputs": [
    {
     "data": {
      "text/html": [
       "<div>\n",
       "<style scoped>\n",
       "    .dataframe tbody tr th:only-of-type {\n",
       "        vertical-align: middle;\n",
       "    }\n",
       "\n",
       "    .dataframe tbody tr th {\n",
       "        vertical-align: top;\n",
       "    }\n",
       "\n",
       "    .dataframe thead th {\n",
       "        text-align: right;\n",
       "    }\n",
       "</style>\n",
       "<table border=\"1\" class=\"dataframe\">\n",
       "  <thead>\n",
       "    <tr style=\"text-align: right;\">\n",
       "      <th></th>\n",
       "      <th>free_text</th>\n",
       "      <th>label_id</th>\n",
       "    </tr>\n",
       "  </thead>\n",
       "  <tbody>\n",
       "    <tr>\n",
       "      <th>0</th>\n",
       "      <td>Em được làm fan cứng luôn rồi nè ❤️ reaction q...</td>\n",
       "      <td>0</td>\n",
       "    </tr>\n",
       "    <tr>\n",
       "      <th>1</th>\n",
       "      <td>Đúng là bọn mắt híp lò xo thụt :))) bên việt n...</td>\n",
       "      <td>2</td>\n",
       "    </tr>\n",
       "    <tr>\n",
       "      <th>2</th>\n",
       "      <td>Đậu Văn Cường giờ giống thằng sida hơn à</td>\n",
       "      <td>0</td>\n",
       "    </tr>\n",
       "    <tr>\n",
       "      <th>3</th>\n",
       "      <td>CÔN ĐỒ CỤC SÚC VÔ NHÂN TÍNH ĐỀ NGHI VN. NHÀ NƯ...</td>\n",
       "      <td>2</td>\n",
       "    </tr>\n",
       "    <tr>\n",
       "      <th>4</th>\n",
       "      <td>Từ lý thuyết đến thực hành là cả 1 câu chuyện ...</td>\n",
       "      <td>0</td>\n",
       "    </tr>\n",
       "  </tbody>\n",
       "</table>\n",
       "</div>"
      ],
      "text/plain": [
       "                                           free_text  label_id\n",
       "0  Em được làm fan cứng luôn rồi nè ❤️ reaction q...         0\n",
       "1  Đúng là bọn mắt híp lò xo thụt :))) bên việt n...         2\n",
       "2           Đậu Văn Cường giờ giống thằng sida hơn à         0\n",
       "3  CÔN ĐỒ CỤC SÚC VÔ NHÂN TÍNH ĐỀ NGHI VN. NHÀ NƯ...         2\n",
       "4  Từ lý thuyết đến thực hành là cả 1 câu chuyện ...         0"
      ]
     },
     "execution_count": 6,
     "metadata": {},
     "output_type": "execute_result"
    }
   ],
   "source": [
    "train_data.head()"
   ]
  },
  {
   "cell_type": "code",
   "execution_count": 9,
   "metadata": {
    "colab": {
     "base_uri": "https://localhost:8080/"
    },
    "executionInfo": {
     "elapsed": 368,
     "status": "ok",
     "timestamp": 1737569004914,
     "user": {
      "displayName": "Tuấn Đoàn Minh",
      "userId": "03441786227984461718"
     },
     "user_tz": -420
    },
    "id": "XYzAxUnpLtZo",
    "outputId": "19229713-30c2-4257-8660-85c18b9cc27a"
   },
   "outputs": [
    {
     "name": "stdout",
     "output_type": "stream",
     "text": [
      "Comments for ID=0:\n",
      "Em được làm fan cứng luôn rồi nè ❤️ reaction quá hay quá cute coi mấy giờ này quá hợp lí =]]]\n",
      "Đậu Văn Cường giờ giống thằng sida hơn à\n",
      "Từ lý thuyết đến thực hành là cả 1 câu chuyện dài =))\n",
      "Coronavirus is manmade\n",
      "Đố chúng m nhận ra ai\n",
      "🥰🥰🥰\n",
      "Được anh ưi, lâu rồi không nghe phúc du rap 🤣\n",
      "Cắt cho trẻ trâu bớt thui mà 😂😂😂\n",
      "Nghe rất vô lí nhưng cực kì thuyết phục\n",
      "chán ghê hong có pé 2 mới máu được, hâhha\n"
     ]
    }
   ],
   "source": [
    "# Lọc dữ liệu để tìm comment tương ứng với id=0\n",
    "comment_for_id_0 = train_data[train_data['label_id'] == 0]['free_text'].head(10)\n",
    "\n",
    "if not comment_for_id_0.empty:\n",
    "    print(\"Comments for ID=0:\")\n",
    "    for comment in comment_for_id_0:\n",
    "        print(comment)\n",
    "else:\n",
    "    print(\"Không tìm thấy comment cho ID=0.\")"
   ]
  },
  {
   "cell_type": "code",
   "execution_count": 10,
   "metadata": {
    "colab": {
     "base_uri": "https://localhost:8080/"
    },
    "executionInfo": {
     "elapsed": 341,
     "status": "ok",
     "timestamp": 1737566240833,
     "user": {
      "displayName": "Tuấn Đoàn Minh",
      "userId": "03441786227984461718"
     },
     "user_tz": -420
    },
    "id": "KaG6nkGU6n6o",
    "outputId": "9c3f0e18-e8e2-4168-d28d-42ff81011d7a"
   },
   "outputs": [
    {
     "name": "stdout",
     "output_type": "stream",
     "text": [
      "Comments for ID=1:\n",
      "Lúp lúp như chó .\n",
      "Dạy bơi cho cá. Bơi thì đương nhiên nó bơi được vì nó là cá. Làm sao cho nó sống được mới là điều người dân đang quan tâm.\n",
      "Ý thức còn ít hơn cả số tiền trong túi t\n",
      "xxx video 🔞\n",
      "Đấu khẩu - Chim lợn 👍\n"
     ]
    }
   ],
   "source": [
    "# Lọc dữ liệu để tìm comment tương ứng với id=1\n",
    "comment_for_id_1 = train_data[train_data['label_id'] == 1]['free_text'].head(5)\n",
    "\n",
    "if not comment_for_id_1.empty:\n",
    "    print(\"Comments for ID=1:\")\n",
    "    for comment in comment_for_id_1:\n",
    "        print(comment)\n",
    "else:\n",
    "    print(\"Không tìm thấy comment cho ID=1.\")"
   ]
  },
  {
   "cell_type": "code",
   "execution_count": 11,
   "metadata": {
    "colab": {
     "base_uri": "https://localhost:8080/"
    },
    "executionInfo": {
     "elapsed": 305,
     "status": "ok",
     "timestamp": 1737552071175,
     "user": {
      "displayName": "Tuấn Đoàn Minh",
      "userId": "03441786227984461718"
     },
     "user_tz": -420
    },
    "id": "G-Kt9r0Z7VFi",
    "outputId": "ad6bbbb3-7eda-49b9-bffa-ec7b1e959aed"
   },
   "outputs": [
    {
     "name": "stdout",
     "output_type": "stream",
     "text": [
      "Comments for ID=2:\n",
      "Đúng là bọn mắt híp lò xo thụt :))) bên việt nam t cái này ra cách đây 10 năm r và bọn t gọi là cái L :)))\n",
      "CÔN ĐỒ CỤC SÚC VÔ NHÂN TÍNH ĐỀ NGHI VN. NHÀ NƯỚC VN BAN THƯỞNG.\n",
      "Thế mà mình nói mấy thằng bắc kì, bọn đó lại bâu vô nói mình phân biệt!:D\n",
      "Loại này cho dựa cột thôi chứ độ thế nào\n",
      "Ủa chứ bữa xin lỗi khóc tế om xòm mà giờ chửi nữa rồi bó tay con này hỗn quá\n"
     ]
    }
   ],
   "source": [
    "# Lọc dữ liệu để tìm comment tương ứng với id=2\n",
    "comment_for_id_2 = train_data[train_data['label_id'] == 2]['free_text'].head(5)\n",
    "\n",
    "if not comment_for_id_2.empty:\n",
    "    print(\"Comments for ID=2:\")\n",
    "    for comment in comment_for_id_2:\n",
    "        print(comment)\n",
    "else:\n",
    "    print(\"Không tìm thấy comment cho ID=2.\")"
   ]
  },
  {
   "cell_type": "code",
   "execution_count": 12,
   "metadata": {
    "id": "LmQHkpPy7pCg"
   },
   "outputs": [],
   "source": [
    "train_data['label_id'] = train_data['label_id'].replace(2, 1)\n",
    "test_data['label_id'] = train_data['label_id'].replace(2, 1)"
   ]
  },
  {
   "cell_type": "code",
   "execution_count": 14,
   "metadata": {
    "id": "UScpeJ7U8Drs"
   },
   "outputs": [],
   "source": [
    "X_train = train_data['free_text']\n",
    "y_train = train_data['label_id'].values\n",
    "\n",
    "X_test = test_data['free_text']\n",
    "y_test = test_data['label_id'].values"
   ]
  },
  {
   "cell_type": "code",
   "execution_count": 16,
   "metadata": {
    "id": "Y7u05JE98aJr"
   },
   "outputs": [],
   "source": [
    "STOPWORDS = '../data/vietnamese_stop_word/vietnamese-stopwords-dash.txt'\n",
    "with open(STOPWORDS, \"r\", encoding=\"utf-8\") as ins:\n",
    "    stopwords = []\n",
    "    for line in ins:\n",
    "        dd = line.strip('\\n')\n",
    "        stopwords.append(dd)\n",
    "    stopwords = set(stopwords)\n",
    "\n",
    "def filter_stop_words(train_sentences, stop_words):\n",
    "    new_sent = [word for word in train_sentences.split() if word not in stop_words]\n",
    "    train_sentences = ' '.join(new_sent)\n",
    "    return train_sentences\n",
    "\n",
    "def check_repeated_character(text):\n",
    "    text = re.sub('  +', ' ', text).strip()\n",
    "    count = {}\n",
    "    for i in range(len(text) - 1):\n",
    "        if text[i] == text[i + 1]:\n",
    "            return True\n",
    "    return False\n",
    "\n",
    "def check_space(text):  # check space in string\n",
    "    for i in range(len(text)):\n",
    "        if text[i] == ' ':\n",
    "            return True\n",
    "    return False\n",
    "\n",
    "\n",
    "def check_special_character_numberic(text):\n",
    "    return any(not c.isalpha() for c in text)\n",
    "\n",
    "def remove_emoji(text):\n",
    "    for emot in UNICODE_EMOJI:\n",
    "        text = str(text).replace(emot, ' ')\n",
    "    text = re.sub('  +', ' ', text).strip()\n",
    "    return text\n",
    "\n",
    "# Remove url\n",
    "def url(text):\n",
    "    text = re.sub(r'https?://\\S+|www\\.\\S+', ' ', str(text))\n",
    "    text = re.sub('  +', ' ', text).strip()\n",
    "    return text\n",
    "\n",
    "# remove special character\n",
    "def special_character(text):\n",
    "    text = re.sub(r'\\d+', lambda m: \" \", text)\n",
    "    # text = re.sub(r'\\b(\\w+)\\s+\\1\\b',' ', text) #remove duplicate number word\n",
    "    text = re.sub(\"[~!@#$%^&*()_+{}“”|:\\\"<>?`´\\-=[\\]\\;\\\\\\/.,]\", \" \", text)\n",
    "    text = re.sub('  +', ' ', text).strip()\n",
    "    return text\n",
    "\n",
    "# normalize repeated characters\n",
    "def repeated_character(text):\n",
    "    text = re.sub(r'(\\w)\\1+', r'\\1', text)\n",
    "    text = re.sub('  +', ' ', text).strip()\n",
    "    return text\n",
    "\n",
    "def mail(text):\n",
    "    text = re.sub(r'[^@]+@[^@]+\\.[^@]+', ' ', text)\n",
    "    text = re.sub('  +', ' ', text).strip()\n",
    "    return text\n",
    "\n",
    "# remove mention tag and hashtag\n",
    "def tag(text):\n",
    "    text = re.sub(r\"(?:\\@|\\#|\\://)\\S+\", \" \", text)\n",
    "    text = re.sub('  +', ' ', text).strip()\n",
    "    return text\n",
    "\n",
    "# \"\"\"Remove all mixed words and numbers\"\"\"\n",
    "def mixed_word_number(text):\n",
    "    text = ' '.join(s for s in text.split() if not any(c.isdigit() for c in s))\n",
    "    text = re.sub('  +', ' ', text).strip()\n",
    "    return text\n",
    "\n",
    "c2e_path = os.path.join(os.getcwd(), '../data/dictionary/character2emoji.xlsx')\n",
    "character2emoji = pd.read_excel(c2e_path)  # character to emoji\n",
    "def convert_character2emoji(text):\n",
    "    text = str(text)\n",
    "    for i in range(character2emoji.shape[0]):\n",
    "        text = text.replace(character2emoji.at[i, 'character'], \" \" + character2emoji.at[i, 'emoji'] + \" \")\n",
    "    text = re.sub('  +', ' ', text).strip()\n",
    "    return text\n",
    "\n",
    "e2w_path = os.path.join(os.getcwd(), '../data/dictionary/emoji2word.xlsx')\n",
    "emoji2word = pd.read_excel(e2w_path)  # emoji to word\n",
    "\n",
    "def convert_emoji2word(text):\n",
    "    for i in range(emoji2word.shape[0]):\n",
    "        text = text.replace(emoji2word.at[i, 'emoji'], \" \" + emoji2word.at[i, 'word_vn'] + \" \")\n",
    "    text = re.sub('  +', ' ', text).strip()\n",
    "    return text\n",
    "\n",
    "adn_path = os.path.join(os.getcwd(), '../data/dictionary/abb_dict_normal.xlsx')\n",
    "abb_dict_normal = pd.read_excel(adn_path)\n",
    "\n",
    "\n",
    "def abbreviation_normal(text):  # len word equal 1\n",
    "    text = str(text)\n",
    "    temp = ''\n",
    "    for word in text.split():\n",
    "        for i in range(abb_dict_normal.shape[0]):\n",
    "            if str(abb_dict_normal.at[i, 'abbreviation']) == str(word):\n",
    "                word = str(abb_dict_normal.at[i, 'meaning'])\n",
    "        temp = temp + ' ' + word\n",
    "    text = temp\n",
    "    text = re.sub('  +', ' ', text).strip()\n",
    "    return text\n",
    "\n",
    "ads_path = os.path.join(os.getcwd(), '../data/dictionary/abb_dict_special.xlsx')\n",
    "abb_dict_special = pd.read_excel(ads_path)\n",
    "\n",
    "\n",
    "def abbreviation_special(text):  # including special character and number\n",
    "    text = ' ' + str(text) + ' '\n",
    "    for i in range(abb_dict_special.shape[0]):\n",
    "        text = text.replace(' ' + abb_dict_special.at[i, 'abbreviation'] + ' ',\n",
    "                            ' ' + abb_dict_special.at[i, 'meaning'] + ' ')\n",
    "    text = re.sub('  +', ' ', text).strip()\n",
    "    return text\n",
    "\n",
    "def special_character_1(text):  # remove dot and comma\n",
    "    text = re.sub(\"[.,?!]\", \" \", text)\n",
    "    text = re.sub('  +', ' ', text).strip()\n",
    "    return text\n",
    "\n",
    "def abbreviation_kk(text):\n",
    "    text = str(text)\n",
    "    for t in text.split():\n",
    "        if 'kk' in t:\n",
    "            text = text.replace(t, ' ha ha ')\n",
    "        else:\n",
    "            if 'kaka' in t:\n",
    "                text = text.replace(t, ' ha ha ')\n",
    "            else:\n",
    "                if 'kiki' in t:\n",
    "                    text = text.replace(t, ' ha ha ')\n",
    "                else:\n",
    "                    if 'haha' in t:\n",
    "                        text = text.replace(t, ' ha ha ')\n",
    "                    else:\n",
    "                        if 'hihi' in t:\n",
    "                            text = text.replace(t, ' ha ha ')\n",
    "    text = re.sub('  +', ' ', text).strip()\n",
    "    return text\n",
    "\n",
    "# tokenize by lib Pyvi\n",
    "def tokenize(text):\n",
    "    text = str(text)\n",
    "    text = ViTokenizer.tokenize(text)\n",
    "    return text\n"
   ]
  },
  {
   "cell_type": "code",
   "execution_count": 17,
   "metadata": {
    "id": "AZRqQxNZ8g8E"
   },
   "outputs": [],
   "source": [
    "def preprocessing(text, lowercased = True):\n",
    "    text = text.lower() if lowercased else text\n",
    "    text = convert_character2emoji(text)\n",
    "    text = url(text)\n",
    "    text = mail(text)\n",
    "    text = tag(text)\n",
    "    text = mixed_word_number(text)\n",
    "    text = special_character_1(text)  # ##remove , . ? !\n",
    "    text = abbreviation_kk(text)\n",
    "    text = abbreviation_special(text)\n",
    "    text = convert_character2emoji(text)\n",
    "    text = remove_emoji(text)\n",
    "    text = repeated_character(text)\n",
    "    text = special_character(text)\n",
    "    text = abbreviation_normal(text)\n",
    "    text = tokenize(text)\n",
    "    text = filter_stop_words(text, stopwords)\n",
    "    return text"
   ]
  },
  {
   "cell_type": "code",
   "execution_count": 18,
   "metadata": {
    "id": "DE1hI4cI8p8u"
   },
   "outputs": [],
   "source": [
    "def pre_process_features(X, y):\n",
    "    X = [preprocessing(str(p)) for p in list(X)]\n",
    "    for idx, ele in enumerate(X):\n",
    "        if not ele:\n",
    "            np.delete(X, idx)\n",
    "            np.delete(y, idx)\n",
    "    return X, y"
   ]
  },
  {
   "cell_type": "code",
   "execution_count": 19,
   "metadata": {
    "id": "IHo2g6F37-GZ"
   },
   "outputs": [],
   "source": [
    "train_X, train_y = pre_process_features(X_train, y_train)\n",
    "test_X, test_y = pre_process_features(X_test, y_test)"
   ]
  },
  {
   "cell_type": "code",
   "execution_count": 20,
   "metadata": {
    "id": "KEWfBOcrF5Kr"
   },
   "outputs": [],
   "source": [
    "from pyspark.sql import SparkSession\n",
    "\n",
    "# Khởi tạo Spark session\n",
    "spark = SparkSession.builder.appName(\"IE212_project\").getOrCreate()"
   ]
  },
  {
   "cell_type": "code",
   "execution_count": 25,
   "metadata": {
    "id": "HipkEQXmGLLH"
   },
   "outputs": [
    {
     "ename": "PythonException",
     "evalue": "\n  An exception was thrown from the Python worker. Please see the stack trace below.\nTraceback (most recent call last):\n  File \"C:\\Users\\ADMIN\\Downloads\\spark-3.5.3-bin-hadoop3\\spark-3.5.3-bin-hadoop3\\python\\lib\\pyspark.zip\\pyspark\\worker.py\", line 1231, in main\n    func, profiler, deserializer, serializer = read_udfs(pickleSer, infile, eval_type)\n                                               ^^^^^^^^^^^^^^^^^^^^^^^^^^^^^^^^^^^^^^^\n  File \"C:\\Users\\ADMIN\\Downloads\\spark-3.5.3-bin-hadoop3\\spark-3.5.3-bin-hadoop3\\python\\lib\\pyspark.zip\\pyspark\\worker.py\", line 1067, in read_udfs\n    udfs.append(read_single_udf(pickleSer, infile, eval_type, runner_conf, udf_index=i))\n                ^^^^^^^^^^^^^^^^^^^^^^^^^^^^^^^^^^^^^^^^^^^^^^^^^^^^^^^^^^^^^^^^^^^^^^^\n  File \"C:\\Users\\ADMIN\\Downloads\\spark-3.5.3-bin-hadoop3\\spark-3.5.3-bin-hadoop3\\python\\lib\\pyspark.zip\\pyspark\\worker.py\", line 529, in read_single_udf\n    f, return_type = read_command(pickleSer, infile)\n                     ^^^^^^^^^^^^^^^^^^^^^^^^^^^^^^^\n  File \"C:\\Users\\ADMIN\\Downloads\\spark-3.5.3-bin-hadoop3\\spark-3.5.3-bin-hadoop3\\python\\lib\\pyspark.zip\\pyspark\\worker.py\", line 90, in read_command\n    command = serializer._read_with_length(file)\n              ^^^^^^^^^^^^^^^^^^^^^^^^^^^^^^^^^^\n  File \"C:\\Users\\ADMIN\\Downloads\\spark-3.5.3-bin-hadoop3\\spark-3.5.3-bin-hadoop3\\python\\lib\\pyspark.zip\\pyspark\\serializers.py\", line 174, in _read_with_length\n    return self.loads(obj)\n           ^^^^^^^^^^^^^^^\n  File \"C:\\Users\\ADMIN\\Downloads\\spark-3.5.3-bin-hadoop3\\spark-3.5.3-bin-hadoop3\\python\\lib\\pyspark.zip\\pyspark\\serializers.py\", line 472, in loads\n    return cloudpickle.loads(obj, encoding=encoding)\n           ^^^^^^^^^^^^^^^^^^^^^^^^^^^^^^^^^^^^^^^^^\n  File \"C:\\Users\\ADMIN\\Downloads\\spark-3.5.3-bin-hadoop3\\spark-3.5.3-bin-hadoop3\\python\\lib\\pyspark.zip\\pyspark\\cloudpickle\\cloudpickle.py\", line 649, in subimport\n    __import__(name)\nModuleNotFoundError: No module named 'pyvi'\n",
     "output_type": "error",
     "traceback": [
      "\u001b[1;31m---------------------------------------------------------------------------\u001b[0m",
      "\u001b[1;31mPythonException\u001b[0m                           Traceback (most recent call last)",
      "Cell \u001b[1;32mIn[25], line 74\u001b[0m\n\u001b[0;32m     71\u001b[0m pipeline \u001b[38;5;241m=\u001b[39m Pipeline(stages\u001b[38;5;241m=\u001b[39m[ngram, hashing_tf, idf, crossval])\n\u001b[0;32m     73\u001b[0m \u001b[38;5;66;03m# Huấn luyện mô hình trên tập train\u001b[39;00m\n\u001b[1;32m---> 74\u001b[0m dt_model \u001b[38;5;241m=\u001b[39m \u001b[43mpipeline\u001b[49m\u001b[38;5;241;43m.\u001b[39;49m\u001b[43mfit\u001b[49m\u001b[43m(\u001b[49m\u001b[43mtrain_df\u001b[49m\u001b[43m)\u001b[49m\n",
      "File \u001b[1;32md:\\Kì 5\\BigData\\Final_project\\myenv\\Lib\\site-packages\\pyspark\\ml\\base.py:205\u001b[0m, in \u001b[0;36mEstimator.fit\u001b[1;34m(self, dataset, params)\u001b[0m\n\u001b[0;32m    203\u001b[0m         \u001b[38;5;28;01mreturn\u001b[39;00m \u001b[38;5;28mself\u001b[39m\u001b[38;5;241m.\u001b[39mcopy(params)\u001b[38;5;241m.\u001b[39m_fit(dataset)\n\u001b[0;32m    204\u001b[0m     \u001b[38;5;28;01melse\u001b[39;00m:\n\u001b[1;32m--> 205\u001b[0m         \u001b[38;5;28;01mreturn\u001b[39;00m \u001b[38;5;28;43mself\u001b[39;49m\u001b[38;5;241;43m.\u001b[39;49m\u001b[43m_fit\u001b[49m\u001b[43m(\u001b[49m\u001b[43mdataset\u001b[49m\u001b[43m)\u001b[49m\n\u001b[0;32m    206\u001b[0m \u001b[38;5;28;01melse\u001b[39;00m:\n\u001b[0;32m    207\u001b[0m     \u001b[38;5;28;01mraise\u001b[39;00m \u001b[38;5;167;01mTypeError\u001b[39;00m(\n\u001b[0;32m    208\u001b[0m         \u001b[38;5;124m\"\u001b[39m\u001b[38;5;124mParams must be either a param map or a list/tuple of param maps, \u001b[39m\u001b[38;5;124m\"\u001b[39m\n\u001b[0;32m    209\u001b[0m         \u001b[38;5;124m\"\u001b[39m\u001b[38;5;124mbut got \u001b[39m\u001b[38;5;132;01m%s\u001b[39;00m\u001b[38;5;124m.\u001b[39m\u001b[38;5;124m\"\u001b[39m \u001b[38;5;241m%\u001b[39m \u001b[38;5;28mtype\u001b[39m(params)\n\u001b[0;32m    210\u001b[0m     )\n",
      "File \u001b[1;32md:\\Kì 5\\BigData\\Final_project\\myenv\\Lib\\site-packages\\pyspark\\ml\\pipeline.py:134\u001b[0m, in \u001b[0;36mPipeline._fit\u001b[1;34m(self, dataset)\u001b[0m\n\u001b[0;32m    132\u001b[0m     dataset \u001b[38;5;241m=\u001b[39m stage\u001b[38;5;241m.\u001b[39mtransform(dataset)\n\u001b[0;32m    133\u001b[0m \u001b[38;5;28;01melse\u001b[39;00m:  \u001b[38;5;66;03m# must be an Estimator\u001b[39;00m\n\u001b[1;32m--> 134\u001b[0m     model \u001b[38;5;241m=\u001b[39m \u001b[43mstage\u001b[49m\u001b[38;5;241;43m.\u001b[39;49m\u001b[43mfit\u001b[49m\u001b[43m(\u001b[49m\u001b[43mdataset\u001b[49m\u001b[43m)\u001b[49m\n\u001b[0;32m    135\u001b[0m     transformers\u001b[38;5;241m.\u001b[39mappend(model)\n\u001b[0;32m    136\u001b[0m     \u001b[38;5;28;01mif\u001b[39;00m i \u001b[38;5;241m<\u001b[39m indexOfLastEstimator:\n",
      "File \u001b[1;32md:\\Kì 5\\BigData\\Final_project\\myenv\\Lib\\site-packages\\pyspark\\ml\\base.py:205\u001b[0m, in \u001b[0;36mEstimator.fit\u001b[1;34m(self, dataset, params)\u001b[0m\n\u001b[0;32m    203\u001b[0m         \u001b[38;5;28;01mreturn\u001b[39;00m \u001b[38;5;28mself\u001b[39m\u001b[38;5;241m.\u001b[39mcopy(params)\u001b[38;5;241m.\u001b[39m_fit(dataset)\n\u001b[0;32m    204\u001b[0m     \u001b[38;5;28;01melse\u001b[39;00m:\n\u001b[1;32m--> 205\u001b[0m         \u001b[38;5;28;01mreturn\u001b[39;00m \u001b[38;5;28;43mself\u001b[39;49m\u001b[38;5;241;43m.\u001b[39;49m\u001b[43m_fit\u001b[49m\u001b[43m(\u001b[49m\u001b[43mdataset\u001b[49m\u001b[43m)\u001b[49m\n\u001b[0;32m    206\u001b[0m \u001b[38;5;28;01melse\u001b[39;00m:\n\u001b[0;32m    207\u001b[0m     \u001b[38;5;28;01mraise\u001b[39;00m \u001b[38;5;167;01mTypeError\u001b[39;00m(\n\u001b[0;32m    208\u001b[0m         \u001b[38;5;124m\"\u001b[39m\u001b[38;5;124mParams must be either a param map or a list/tuple of param maps, \u001b[39m\u001b[38;5;124m\"\u001b[39m\n\u001b[0;32m    209\u001b[0m         \u001b[38;5;124m\"\u001b[39m\u001b[38;5;124mbut got \u001b[39m\u001b[38;5;132;01m%s\u001b[39;00m\u001b[38;5;124m.\u001b[39m\u001b[38;5;124m\"\u001b[39m \u001b[38;5;241m%\u001b[39m \u001b[38;5;28mtype\u001b[39m(params)\n\u001b[0;32m    210\u001b[0m     )\n",
      "File \u001b[1;32md:\\Kì 5\\BigData\\Final_project\\myenv\\Lib\\site-packages\\pyspark\\ml\\wrapper.py:381\u001b[0m, in \u001b[0;36mJavaEstimator._fit\u001b[1;34m(self, dataset)\u001b[0m\n\u001b[0;32m    380\u001b[0m \u001b[38;5;28;01mdef\u001b[39;00m\u001b[38;5;250m \u001b[39m\u001b[38;5;21m_fit\u001b[39m(\u001b[38;5;28mself\u001b[39m, dataset: DataFrame) \u001b[38;5;241m-\u001b[39m\u001b[38;5;241m>\u001b[39m JM:\n\u001b[1;32m--> 381\u001b[0m     java_model \u001b[38;5;241m=\u001b[39m \u001b[38;5;28;43mself\u001b[39;49m\u001b[38;5;241;43m.\u001b[39;49m\u001b[43m_fit_java\u001b[49m\u001b[43m(\u001b[49m\u001b[43mdataset\u001b[49m\u001b[43m)\u001b[49m\n\u001b[0;32m    382\u001b[0m     model \u001b[38;5;241m=\u001b[39m \u001b[38;5;28mself\u001b[39m\u001b[38;5;241m.\u001b[39m_create_model(java_model)\n\u001b[0;32m    383\u001b[0m     \u001b[38;5;28;01mreturn\u001b[39;00m \u001b[38;5;28mself\u001b[39m\u001b[38;5;241m.\u001b[39m_copyValues(model)\n",
      "File \u001b[1;32md:\\Kì 5\\BigData\\Final_project\\myenv\\Lib\\site-packages\\pyspark\\ml\\wrapper.py:378\u001b[0m, in \u001b[0;36mJavaEstimator._fit_java\u001b[1;34m(self, dataset)\u001b[0m\n\u001b[0;32m    375\u001b[0m \u001b[38;5;28;01massert\u001b[39;00m \u001b[38;5;28mself\u001b[39m\u001b[38;5;241m.\u001b[39m_java_obj \u001b[38;5;129;01mis\u001b[39;00m \u001b[38;5;129;01mnot\u001b[39;00m \u001b[38;5;28;01mNone\u001b[39;00m\n\u001b[0;32m    377\u001b[0m \u001b[38;5;28mself\u001b[39m\u001b[38;5;241m.\u001b[39m_transfer_params_to_java()\n\u001b[1;32m--> 378\u001b[0m \u001b[38;5;28;01mreturn\u001b[39;00m \u001b[38;5;28;43mself\u001b[39;49m\u001b[38;5;241;43m.\u001b[39;49m\u001b[43m_java_obj\u001b[49m\u001b[38;5;241;43m.\u001b[39;49m\u001b[43mfit\u001b[49m\u001b[43m(\u001b[49m\u001b[43mdataset\u001b[49m\u001b[38;5;241;43m.\u001b[39;49m\u001b[43m_jdf\u001b[49m\u001b[43m)\u001b[49m\n",
      "File \u001b[1;32md:\\Kì 5\\BigData\\Final_project\\myenv\\Lib\\site-packages\\py4j\\java_gateway.py:1322\u001b[0m, in \u001b[0;36mJavaMember.__call__\u001b[1;34m(self, *args)\u001b[0m\n\u001b[0;32m   1316\u001b[0m command \u001b[38;5;241m=\u001b[39m proto\u001b[38;5;241m.\u001b[39mCALL_COMMAND_NAME \u001b[38;5;241m+\u001b[39m\\\n\u001b[0;32m   1317\u001b[0m     \u001b[38;5;28mself\u001b[39m\u001b[38;5;241m.\u001b[39mcommand_header \u001b[38;5;241m+\u001b[39m\\\n\u001b[0;32m   1318\u001b[0m     args_command \u001b[38;5;241m+\u001b[39m\\\n\u001b[0;32m   1319\u001b[0m     proto\u001b[38;5;241m.\u001b[39mEND_COMMAND_PART\n\u001b[0;32m   1321\u001b[0m answer \u001b[38;5;241m=\u001b[39m \u001b[38;5;28mself\u001b[39m\u001b[38;5;241m.\u001b[39mgateway_client\u001b[38;5;241m.\u001b[39msend_command(command)\n\u001b[1;32m-> 1322\u001b[0m return_value \u001b[38;5;241m=\u001b[39m \u001b[43mget_return_value\u001b[49m\u001b[43m(\u001b[49m\n\u001b[0;32m   1323\u001b[0m \u001b[43m    \u001b[49m\u001b[43manswer\u001b[49m\u001b[43m,\u001b[49m\u001b[43m \u001b[49m\u001b[38;5;28;43mself\u001b[39;49m\u001b[38;5;241;43m.\u001b[39;49m\u001b[43mgateway_client\u001b[49m\u001b[43m,\u001b[49m\u001b[43m \u001b[49m\u001b[38;5;28;43mself\u001b[39;49m\u001b[38;5;241;43m.\u001b[39;49m\u001b[43mtarget_id\u001b[49m\u001b[43m,\u001b[49m\u001b[43m \u001b[49m\u001b[38;5;28;43mself\u001b[39;49m\u001b[38;5;241;43m.\u001b[39;49m\u001b[43mname\u001b[49m\u001b[43m)\u001b[49m\n\u001b[0;32m   1325\u001b[0m \u001b[38;5;28;01mfor\u001b[39;00m temp_arg \u001b[38;5;129;01min\u001b[39;00m temp_args:\n\u001b[0;32m   1326\u001b[0m     \u001b[38;5;28;01mif\u001b[39;00m \u001b[38;5;28mhasattr\u001b[39m(temp_arg, \u001b[38;5;124m\"\u001b[39m\u001b[38;5;124m_detach\u001b[39m\u001b[38;5;124m\"\u001b[39m):\n",
      "File \u001b[1;32md:\\Kì 5\\BigData\\Final_project\\myenv\\Lib\\site-packages\\pyspark\\errors\\exceptions\\captured.py:175\u001b[0m, in \u001b[0;36mcapture_sql_exception.<locals>.deco\u001b[1;34m(*a, **kw)\u001b[0m\n\u001b[0;32m    171\u001b[0m converted \u001b[38;5;241m=\u001b[39m convert_exception(e\u001b[38;5;241m.\u001b[39mjava_exception)\n\u001b[0;32m    172\u001b[0m \u001b[38;5;28;01mif\u001b[39;00m \u001b[38;5;129;01mnot\u001b[39;00m \u001b[38;5;28misinstance\u001b[39m(converted, UnknownException):\n\u001b[0;32m    173\u001b[0m     \u001b[38;5;66;03m# Hide where the exception came from that shows a non-Pythonic\u001b[39;00m\n\u001b[0;32m    174\u001b[0m     \u001b[38;5;66;03m# JVM exception message.\u001b[39;00m\n\u001b[1;32m--> 175\u001b[0m     \u001b[38;5;28;01mraise\u001b[39;00m converted \u001b[38;5;28;01mfrom\u001b[39;00m\u001b[38;5;250m \u001b[39m\u001b[38;5;28;01mNone\u001b[39;00m\n\u001b[0;32m    176\u001b[0m \u001b[38;5;28;01melse\u001b[39;00m:\n\u001b[0;32m    177\u001b[0m     \u001b[38;5;28;01mraise\u001b[39;00m\n",
      "\u001b[1;31mPythonException\u001b[0m: \n  An exception was thrown from the Python worker. Please see the stack trace below.\nTraceback (most recent call last):\n  File \"C:\\Users\\ADMIN\\Downloads\\spark-3.5.3-bin-hadoop3\\spark-3.5.3-bin-hadoop3\\python\\lib\\pyspark.zip\\pyspark\\worker.py\", line 1231, in main\n    func, profiler, deserializer, serializer = read_udfs(pickleSer, infile, eval_type)\n                                               ^^^^^^^^^^^^^^^^^^^^^^^^^^^^^^^^^^^^^^^\n  File \"C:\\Users\\ADMIN\\Downloads\\spark-3.5.3-bin-hadoop3\\spark-3.5.3-bin-hadoop3\\python\\lib\\pyspark.zip\\pyspark\\worker.py\", line 1067, in read_udfs\n    udfs.append(read_single_udf(pickleSer, infile, eval_type, runner_conf, udf_index=i))\n                ^^^^^^^^^^^^^^^^^^^^^^^^^^^^^^^^^^^^^^^^^^^^^^^^^^^^^^^^^^^^^^^^^^^^^^^\n  File \"C:\\Users\\ADMIN\\Downloads\\spark-3.5.3-bin-hadoop3\\spark-3.5.3-bin-hadoop3\\python\\lib\\pyspark.zip\\pyspark\\worker.py\", line 529, in read_single_udf\n    f, return_type = read_command(pickleSer, infile)\n                     ^^^^^^^^^^^^^^^^^^^^^^^^^^^^^^^\n  File \"C:\\Users\\ADMIN\\Downloads\\spark-3.5.3-bin-hadoop3\\spark-3.5.3-bin-hadoop3\\python\\lib\\pyspark.zip\\pyspark\\worker.py\", line 90, in read_command\n    command = serializer._read_with_length(file)\n              ^^^^^^^^^^^^^^^^^^^^^^^^^^^^^^^^^^\n  File \"C:\\Users\\ADMIN\\Downloads\\spark-3.5.3-bin-hadoop3\\spark-3.5.3-bin-hadoop3\\python\\lib\\pyspark.zip\\pyspark\\serializers.py\", line 174, in _read_with_length\n    return self.loads(obj)\n           ^^^^^^^^^^^^^^^\n  File \"C:\\Users\\ADMIN\\Downloads\\spark-3.5.3-bin-hadoop3\\spark-3.5.3-bin-hadoop3\\python\\lib\\pyspark.zip\\pyspark\\serializers.py\", line 472, in loads\n    return cloudpickle.loads(obj, encoding=encoding)\n           ^^^^^^^^^^^^^^^^^^^^^^^^^^^^^^^^^^^^^^^^^\n  File \"C:\\Users\\ADMIN\\Downloads\\spark-3.5.3-bin-hadoop3\\spark-3.5.3-bin-hadoop3\\python\\lib\\pyspark.zip\\pyspark\\cloudpickle\\cloudpickle.py\", line 649, in subimport\n    __import__(name)\nModuleNotFoundError: No module named 'pyvi'\n"
     ]
    }
   ],
   "source": [
    "from pyspark.ml.classification import DecisionTreeClassifier\n",
    "from pyspark.ml.evaluation import MulticlassClassificationEvaluator\n",
    "from pyspark.ml.tuning import ParamGridBuilder, CrossValidator\n",
    "from pyspark.ml.feature import HashingTF, IDF, NGram\n",
    "from pyspark.ml import Pipeline\n",
    "from pyspark.sql.functions import udf\n",
    "from pyspark.sql.functions import col\n",
    "from pyspark.sql.types import ArrayType, StringType, StructType, StructField, IntegerType\n",
    "from pyvi import ViTokenizer\n",
    "\n",
    "# Hàm tách từ bằng pyvi\n",
    "def vietnamese_tokenize(text):\n",
    "    return ViTokenizer.tokenize(text).split()  # Tách từ và chuyển thành danh sách\n",
    "\n",
    "# Đăng ký UDF (User Defined Function) để sử dụng trong Spark DataFrame\n",
    "tokenize_udf = udf(vietnamese_tokenize, ArrayType(StringType()))\n",
    "\n",
    "# Xác định schema với kiểu dữ liệu cụ thể cho các cột\n",
    "schema = StructType([\n",
    "    StructField(\"free_text\", StringType(), True),\n",
    "    StructField(\"label_id\", IntegerType(), True)  # Đảm bảo label_id là IntegerType\n",
    "])\n",
    "\n",
    "# Chuyển nhãn từ numpy int64 sang Python int để tương thích với Spark\n",
    "y_train = [int(label) for label in train_y]  # Nếu train_Y là numpy array\n",
    "y_test = [int(label) for label in test_y]  # Nếu test_Y là numpy array\n",
    "\n",
    "# Tạo dữ liệu dạng tuple (câu, nhãn) cho train và test\n",
    "train_data = [(sentence, label) for sentence, label in zip(train_X, y_train)]\n",
    "test_data = [(sentence, label) for sentence, label in zip(test_X, y_test)]\n",
    "\n",
    "# Tạo DataFrame với schema đã xác định\n",
    "train_df = spark.createDataFrame(train_data, schema)\n",
    "test_df = spark.createDataFrame(test_data, schema)\n",
    "\n",
    "# Áp dụng UDF để tách từ cho cột free_text\n",
    "train_df = train_df.withColumn(\"words\", tokenize_udf(col(\"free_text\")))\n",
    "test_df = test_df.withColumn(\"words\", tokenize_udf(col(\"free_text\")))\n",
    "\n",
    "# Tạo n-grams từ các từ đã tách (ngram_range=(1,2))\n",
    "ngram = NGram(n=2, inputCol=\"words\", outputCol=\"ngrams\")  # Tạo bigram (n=2)\n",
    "\n",
    "# Tính TF cho n-grams\n",
    "hashing_tf = HashingTF(inputCol=\"ngrams\", outputCol=\"raw_features\", numFeatures=2000)\n",
    "\n",
    "# Tính IDF cho n-grams\n",
    "idf = IDF(inputCol=\"raw_features\", outputCol=\"features\")\n",
    "\n",
    "# Khởi tạo mô hình Decision Tree với các tham số yêu cầu\n",
    "dt = DecisionTreeClassifier(featuresCol=\"features\", labelCol=\"label_id\", maxDepth=17, minInstancesPerNode=3)\n",
    "\n",
    "# Tạo grid cho các tham số cần tối ưu hóa\n",
    "paramGrid = ParamGridBuilder() \\\n",
    "    .addGrid(dt.maxDepth, [17]) \\\n",
    "    .addGrid(dt.minInstancesPerNode, [3]) \\\n",
    "    .build()\n",
    "\n",
    "# Sử dụng CrossValidator để tìm tham số tốt nhất\n",
    "evaluator = MulticlassClassificationEvaluator(\n",
    "    labelCol=\"label_id\", predictionCol=\"prediction\", metricName=\"accuracy\"\n",
    ")\n",
    "\n",
    "crossval = CrossValidator(\n",
    "    estimator=dt,\n",
    "    estimatorParamMaps=paramGrid,\n",
    "    evaluator=evaluator,\n",
    "    numFolds=5\n",
    ")\n",
    "\n",
    "# Tạo pipeline để xử lý dữ liệu\n",
    "pipeline = Pipeline(stages=[ngram, hashing_tf, idf, crossval])\n",
    "\n",
    "# Huấn luyện mô hình trên tập train\n",
    "dt_model = pipeline.fit(train_df)\n"
   ]
  },
  {
   "cell_type": "code",
   "execution_count": null,
   "metadata": {
    "colab": {
     "base_uri": "https://localhost:8080/"
    },
    "executionInfo": {
     "elapsed": 13438,
     "status": "ok",
     "timestamp": 1737557216746,
     "user": {
      "displayName": "Tuấn Đoàn Minh",
      "userId": "03441786227984461718"
     },
     "user_tz": -420
    },
    "id": "3theeizKJoGx",
    "outputId": "48a06512-030b-4f5d-a18e-0e2b14a5c92c"
   },
   "outputs": [
    {
     "name": "stdout",
     "output_type": "stream",
     "text": [
      "Accuracy: 0.80\n",
      "Precision: 0.70\n",
      "Recall: 0.80\n",
      "F1 Score: 0.74\n"
     ]
    }
   ],
   "source": [
    "\n",
    "# Dự đoán trên tập test\n",
    "predictions = dt_model.transform(test_df)\n",
    "\n",
    "# Đánh giá mô hình\n",
    "accuracy = evaluator.evaluate(predictions)\n",
    "print(f\"Accuracy: {accuracy:.2f}\")\n",
    "\n",
    "precision_evaluator = MulticlassClassificationEvaluator(\n",
    "    labelCol=\"label_id\", predictionCol=\"prediction\", metricName=\"weightedPrecision\"\n",
    ")\n",
    "precision = precision_evaluator.evaluate(predictions)\n",
    "print(f\"Precision: {precision:.2f}\")\n",
    "\n",
    "\n",
    "# Tính Recall\n",
    "recall_evaluator = MulticlassClassificationEvaluator(\n",
    "    labelCol=\"label_id\", predictionCol=\"prediction\", metricName=\"weightedRecall\"\n",
    ")\n",
    "recall = recall_evaluator.evaluate(predictions)\n",
    "print(f\"Recall: {recall:.2f}\")\n",
    "\n",
    "f1_evaluator = MulticlassClassificationEvaluator(\n",
    "    labelCol=\"label_id\", predictionCol=\"prediction\", metricName=\"f1\"\n",
    ")\n",
    "f1_score = f1_evaluator.evaluate(predictions)\n",
    "print(f\"F1 Score: {f1_score:.2f}\")\n",
    "\n",
    "\n"
   ]
  },
  {
   "cell_type": "code",
   "execution_count": 22,
   "metadata": {
    "colab": {
     "base_uri": "https://localhost:8080/"
    },
    "executionInfo": {
     "elapsed": 2298,
     "status": "ok",
     "timestamp": 1737557233643,
     "user": {
      "displayName": "Tuấn Đoàn Minh",
      "userId": "03441786227984461718"
     },
     "user_tz": -420
    },
    "id": "RKIwcGNoKuOF",
    "outputId": "f13e719e-24db-4dce-cf24-eb05b577d279"
   },
   "outputs": [
    {
     "ename": "NameError",
     "evalue": "name 'predictions' is not defined",
     "output_type": "error",
     "traceback": [
      "\u001b[1;31m---------------------------------------------------------------------------\u001b[0m",
      "\u001b[1;31mNameError\u001b[0m                                 Traceback (most recent call last)",
      "Cell \u001b[1;32mIn[22], line 5\u001b[0m\n\u001b[0;32m      2\u001b[0m \u001b[38;5;28;01mimport\u001b[39;00m\u001b[38;5;250m \u001b[39m\u001b[38;5;21;01mpandas\u001b[39;00m\u001b[38;5;250m \u001b[39m\u001b[38;5;28;01mas\u001b[39;00m\u001b[38;5;250m \u001b[39m\u001b[38;5;21;01mpd\u001b[39;00m\n\u001b[0;32m      4\u001b[0m \u001b[38;5;66;03m# Chuyển đổi DataFrame của Spark sang Pandas\u001b[39;00m\n\u001b[1;32m----> 5\u001b[0m preds_and_labels \u001b[38;5;241m=\u001b[39m \u001b[43mpredictions\u001b[49m\u001b[38;5;241m.\u001b[39mselect(\u001b[38;5;124m\"\u001b[39m\u001b[38;5;124mprediction\u001b[39m\u001b[38;5;124m\"\u001b[39m, \u001b[38;5;124m\"\u001b[39m\u001b[38;5;124mlabel_id\u001b[39m\u001b[38;5;124m\"\u001b[39m)\u001b[38;5;241m.\u001b[39mtoPandas()\n\u001b[0;32m      7\u001b[0m \u001b[38;5;66;03m# Lấy giá trị dự đoán và nhãn\u001b[39;00m\n\u001b[0;32m      8\u001b[0m y_true \u001b[38;5;241m=\u001b[39m preds_and_labels[\u001b[38;5;124m\"\u001b[39m\u001b[38;5;124mlabel_id\u001b[39m\u001b[38;5;124m\"\u001b[39m]\n",
      "\u001b[1;31mNameError\u001b[0m: name 'predictions' is not defined"
     ]
    }
   ],
   "source": [
    "from sklearn.metrics import classification_report, confusion_matrix\n",
    "import pandas as pd\n",
    "\n",
    "# Chuyển đổi DataFrame của Spark sang Pandas\n",
    "preds_and_labels = predictions.select(\"prediction\", \"label_id\").toPandas()\n",
    "\n",
    "# Lấy giá trị dự đoán và nhãn\n",
    "y_true = preds_and_labels[\"label_id\"]\n",
    "y_pred = preds_and_labels[\"prediction\"]\n",
    "\n",
    "# In classification report\n",
    "print(\"Classification Report:\")\n",
    "print(classification_report(y_true, y_pred))\n",
    "\n",
    "# In confusion matrix\n",
    "print(\"Confusion Matrix:\")\n",
    "print(confusion_matrix(y_true, y_pred))\n"
   ]
  },
  {
   "cell_type": "code",
   "execution_count": null,
   "metadata": {
    "colab": {
     "base_uri": "https://localhost:8080/",
     "height": 641
    },
    "executionInfo": {
     "elapsed": 429,
     "status": "ok",
     "timestamp": 1737557293541,
     "user": {
      "displayName": "Tuấn Đoàn Minh",
      "userId": "03441786227984461718"
     },
     "user_tz": -420
    },
    "id": "MvZ0F_vLe_dv",
    "outputId": "90fc505c-c1ef-4836-de96-0da956c9ce18"
   },
   "outputs": [
    {
     "data": {
      "image/png": "[encoded data removed]",
      "text/plain": [
       "<Figure size 1000x700 with 2 Axes>"
      ]
     },
     "metadata": {},
     "output_type": "display_data"
    }
   ],
   "source": [
    "import seaborn as sns\n",
    "import matplotlib.pyplot as plt\n",
    "from sklearn.metrics import confusion_matrix\n",
    "\n",
    "# Tạo confusion matrix\n",
    "cm = confusion_matrix(y_true, y_pred)\n",
    "\n",
    "# Vẽ heatmap\n",
    "plt.figure(figsize=(10, 7))\n",
    "sns.heatmap(cm, annot=True, fmt=\"d\", cmap=\"Blues\", xticklabels=sorted(set(y_true)), yticklabels=sorted(set(y_true)))\n",
    "plt.title(\"Confusion Matrix Decision Tree\")\n",
    "plt.xlabel(\"Predicted Labels\")\n",
    "plt.ylabel(\"True Labels\")\n",
    "plt.show()\n"
   ]
  },
  {
   "cell_type": "code",
   "execution_count": null,
   "metadata": {
    "id": "Z8nhq423fwRU"
   },
   "outputs": [],
   "source": [
    "model_path = \"drive/MyDrive/IE212_project/content/DecisionTree\"\n",
    "dt_model.write().overwrite().save(model_path)"
   ]
  },
  {
   "cell_type": "code",
   "execution_count": null,
   "metadata": {
    "id": "TTl34iJYf4Cd"
   },
   "outputs": [],
   "source": [
    "from pyspark.ml.classification import LogisticRegression\n",
    "from pyspark.ml.evaluation import MulticlassClassificationEvaluator\n",
    "from pyspark.ml.tuning import ParamGridBuilder, CrossValidator\n",
    "from pyspark.ml.feature import HashingTF, IDF, NGram\n",
    "from pyspark.ml import Pipeline\n",
    "from pyspark.sql.functions import udf\n",
    "from pyspark.sql.types import ArrayType, StringType, StructType, StructField, IntegerType\n",
    "from pyvi import ViTokenizer\n",
    "\n",
    "# Hàm tách từ bằng pyvi\n",
    "def vietnamese_tokenize(text):\n",
    "    return ViTokenizer.tokenize(text).split()  # Tách từ và chuyển thành danh sách\n",
    "\n",
    "# Đăng ký UDF (User Defined Function) để sử dụng trong Spark DataFrame\n",
    "tokenize_udf = udf(vietnamese_tokenize, ArrayType(StringType()))\n",
    "\n",
    "# Xác định schema với kiểu dữ liệu cụ thể cho các cột\n",
    "schema = StructType([\n",
    "    StructField(\"free_text\", StringType(), True),\n",
    "    StructField(\"label_id\", IntegerType(), True)  # Đảm bảo label_id là IntegerType\n",
    "])\n",
    "\n",
    "# Chuyển nhãn từ numpy int64 sang Python int để tương thích với Spark\n",
    "y_train = [int(label) for label in train_y]  # Nếu train_Y là numpy array\n",
    "y_test = [int(label) for label in test_y]  # Nếu test_Y là numpy array\n",
    "\n",
    "# Tạo dữ liệu dạng tuple (câu, nhãn) cho train và test\n",
    "train_data = [(sentence, label) for sentence, label in zip(train_X, y_train)]\n",
    "test_data = [(sentence, label) for sentence, label in zip(test_X, y_test)]\n",
    "\n",
    "# Tạo DataFrame với schema đã xác định\n",
    "train_df = spark.createDataFrame(train_data, schema)\n",
    "test_df = spark.createDataFrame(test_data, schema)\n",
    "\n",
    "# Áp dụng UDF để tách từ cho cột free_text\n",
    "train_df = train_df.withColumn(\"words\", tokenize_udf(train_df[\"free_text\"]))\n",
    "test_df = test_df.withColumn(\"words\", tokenize_udf(test_df[\"free_text\"]))\n",
    "\n",
    "# Tạo n-grams từ các từ đã tách (ngram_range=(1,2))\n",
    "ngram = NGram(n=2, inputCol=\"words\", outputCol=\"ngrams\")  # Tạo bigram (n=2)\n",
    "\n",
    "# Tính TF cho n-grams\n",
    "hashing_tf = HashingTF(inputCol=\"ngrams\", outputCol=\"raw_features\", numFeatures=2000)\n",
    "\n",
    "# Tính IDF cho n-grams\n",
    "idf = IDF(inputCol=\"raw_features\", outputCol=\"features\")\n",
    "\n",
    "# Khởi tạo mô hình Logistic Regression với các tham số yêu cầu (bỏ tham số solver)\n",
    "lr = LogisticRegression(featuresCol=\"features\", labelCol=\"label_id\", maxIter=20, regParam=0.3)\n",
    "\n",
    "# Tạo grid cho các tham số cần tối ưu hóa\n",
    "paramGrid = ParamGridBuilder() \\\n",
    "    .addGrid(lr.maxIter, [20]) \\\n",
    "    .addGrid(lr.regParam, [0.3]) \\\n",
    "    .build()\n",
    "\n",
    "# Sử dụng CrossValidator để tìm tham số tốt nhất\n",
    "evaluator = MulticlassClassificationEvaluator(\n",
    "    labelCol=\"label_id\", predictionCol=\"prediction\", metricName=\"accuracy\"\n",
    ")\n",
    "\n",
    "crossval = CrossValidator(\n",
    "    estimator=lr,\n",
    "    estimatorParamMaps=paramGrid,\n",
    "    evaluator=evaluator,\n",
    "    numFolds=5  \\\n",
    ")\n",
    "\n",
    "# Tạo pipeline để xử lý dữ liệu\n",
    "pipeline = Pipeline(stages=[ngram, hashing_tf, idf, crossval])\n",
    "\n",
    "# Huấn luyện mô hình trên tập train\n",
    "lr_model = pipeline.fit(train_df)\n",
    "\n",
    "# Dự đoán trên tập test\n",
    "predictions = lr_model.transform(test_df)\n",
    "\n",
    "\n"
   ]
  },
  {
   "cell_type": "code",
   "execution_count": null,
   "metadata": {
    "colab": {
     "base_uri": "https://localhost:8080/"
    },
    "executionInfo": {
     "elapsed": 19935,
     "status": "ok",
     "timestamp": 1737557803089,
     "user": {
      "displayName": "Tuấn Đoàn Minh",
      "userId": "03441786227984461718"
     },
     "user_tz": -420
    },
    "id": "fEK6UT4DgQ-9",
    "outputId": "ae7281df-f009-4a4f-e015-e27485fe079a"
   },
   "outputs": [
    {
     "name": "stdout",
     "output_type": "stream",
     "text": [
      "Accuracy: 0.81\n",
      "Precision: 0.71\n",
      "Recall: 0.81\n",
      "F1 Score: 0.74\n"
     ]
    }
   ],
   "source": [
    "# Đánh giá mô hình\n",
    "accuracy = evaluator.evaluate(predictions)\n",
    "print(f\"Accuracy: {accuracy:.2f}\")\n",
    "\n",
    "precision_evaluator = MulticlassClassificationEvaluator(\n",
    "    labelCol=\"label_id\", predictionCol=\"prediction\", metricName=\"weightedPrecision\"\n",
    ")\n",
    "precision = precision_evaluator.evaluate(predictions)\n",
    "print(f\"Precision: {precision:.2f}\")\n",
    "\n",
    "\n",
    "# Tính Recall\n",
    "recall_evaluator = MulticlassClassificationEvaluator(\n",
    "    labelCol=\"label_id\", predictionCol=\"prediction\", metricName=\"weightedRecall\"\n",
    ")\n",
    "recall = recall_evaluator.evaluate(predictions)\n",
    "print(f\"Recall: {recall:.2f}\")\n",
    "\n",
    "f1_evaluator = MulticlassClassificationEvaluator(\n",
    "    labelCol=\"label_id\", predictionCol=\"prediction\", metricName=\"f1\"\n",
    ")\n",
    "f1_score = f1_evaluator.evaluate(predictions)\n",
    "print(f\"F1 Score: {f1_score:.2f}\")"
   ]
  },
  {
   "cell_type": "code",
   "execution_count": null,
   "metadata": {
    "colab": {
     "base_uri": "https://localhost:8080/"
    },
    "executionInfo": {
     "elapsed": 3698,
     "status": "ok",
     "timestamp": 1737557820328,
     "user": {
      "displayName": "Tuấn Đoàn Minh",
      "userId": "03441786227984461718"
     },
     "user_tz": -420
    },
    "id": "-SvDURn7g7_a",
    "outputId": "77fa8c9d-0bdf-4af4-a518-857301f16131"
   },
   "outputs": [
    {
     "name": "stdout",
     "output_type": "stream",
     "text": [
      "Classification Report:\n",
      "              precision    recall  f1-score   support\n",
      "\n",
      "           0       0.82      0.98      0.90      5497\n",
      "           1       0.19      0.02      0.04      1183\n",
      "\n",
      "    accuracy                           0.81      6680\n",
      "   macro avg       0.51      0.50      0.47      6680\n",
      "weighted avg       0.71      0.81      0.74      6680\n",
      "\n",
      "Confusion Matrix:\n",
      "[[5402   95]\n",
      " [1160   23]]\n"
     ]
    }
   ],
   "source": [
    "preds_and_labels = predictions.select(\"prediction\", \"label_id\").toPandas()\n",
    "\n",
    "# Lấy giá trị dự đoán và nhãn\n",
    "y_true = preds_and_labels[\"label_id\"]\n",
    "y_pred = preds_and_labels[\"prediction\"]\n",
    "\n",
    "# In classification report\n",
    "print(\"Classification Report:\")\n",
    "print(classification_report(y_true, y_pred))\n",
    "\n",
    "# In confusion matrix\n",
    "print(\"Confusion Matrix:\")\n",
    "print(confusion_matrix(y_true, y_pred))"
   ]
  },
  {
   "cell_type": "code",
   "execution_count": null,
   "metadata": {
    "colab": {
     "base_uri": "https://localhost:8080/",
     "height": 641
    },
    "executionInfo": {
     "elapsed": 383,
     "status": "ok",
     "timestamp": 1737557858760,
     "user": {
      "displayName": "Tuấn Đoàn Minh",
      "userId": "03441786227984461718"
     },
     "user_tz": -420
    },
    "id": "B2rWSvhbhGJU",
    "outputId": "82389fad-fc28-4e6c-99c4-90d0369a196e"
   },
   "outputs": [
    {
     "data": {
      "image/png": "[encoded data removed]",
      "text/plain": [
       "<Figure size 1000x700 with 2 Axes>"
      ]
     },
     "metadata": {},
     "output_type": "display_data"
    }
   ],
   "source": [
    "# Tạo confusion matrix\n",
    "cm = confusion_matrix(y_true, y_pred)\n",
    "\n",
    "# Vẽ heatmap\n",
    "plt.figure(figsize=(10, 7))\n",
    "sns.heatmap(cm, annot=True, fmt=\"d\", cmap=\"Reds\", xticklabels=sorted(set(y_true)), yticklabels=sorted(set(y_true)))\n",
    "plt.title(\"Confusion Matrix Logistic Regression\")\n",
    "plt.xlabel(\"Predicted Labels\")\n",
    "plt.ylabel(\"True Labels\")\n",
    "plt.show()"
   ]
  },
  {
   "cell_type": "code",
   "execution_count": null,
   "metadata": {
    "id": "6h5dcM_GjQhU"
   },
   "outputs": [],
   "source": [
    "model_path = \"drive/MyDrive/IE212_project/content/LogisiticRegression\"\n",
    "lr_model.write().overwrite().save(model_path)\n"
   ]
  }
 ],
 "metadata": {
  "colab": {
   "authorship_tag": "ABX9TyOL4D93mNTI3SsNcN1Nw2f6",
   "mount_file_id": "12AdLV81sQ8UWfbEAtjBsEjZb50Xtb2ao",
   "provenance": []
  },
  "kernelspec": {
   "display_name": "myenv",
   "language": "python",
   "name": "python3"
  },
  "language_info": {
   "codemirror_mode": {
    "name": "ipython",
    "version": 3
   },
   "file_extension": ".py",
   "mimetype": "text/x-python",
   "name": "python",
   "nbconvert_exporter": "python",
   "pygments_lexer": "ipython3",
   "version": "3.11.2"
  }
 },
 "nbformat": 4,
 "nbformat_minor": 0
}
